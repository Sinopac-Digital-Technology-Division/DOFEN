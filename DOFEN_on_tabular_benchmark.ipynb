{
 "cells": [
  {
   "cell_type": "code",
   "execution_count": null,
   "metadata": {},
   "outputs": [],
   "source": [
    "from model import DOFENTrainer\n",
    "from dofen_default_config import dofen_config, train_config, eval_config\n",
    "import pickle\n",
    "import torch"
   ]
  },
  {
   "cell_type": "code",
   "execution_count": null,
   "metadata": {},
   "outputs": [],
   "source": [
    "data_dir = './tabular-benchmark/tabular_benchmark_data/'\n",
    "data_name = 361111\n",
    "data_seed = 0\n",
    "\n",
    "target_transform = False\n",
    "\n",
    "with open(f'{data_dir}/{data_name}/{data_seed}.pkl', 'rb') as f:\n",
    "    data_dict = pickle.load(f)\n",
    "    \n",
    "tr_x = data_dict['x_train']\n",
    "va_x = data_dict['x_val']\n",
    "te_x = data_dict['x_test']\n",
    "\n",
    "tr_y = data_dict['y_train' if not target_transform else 'y_train_transform']\n",
    "va_y = data_dict['y_val' if not target_transform else 'y_val_transform']\n",
    "te_y = data_dict['y_test' if not target_transform else 'y_test_transform']\n",
    "\n",
    "col_cat_count = data_dict['col_cat_count']\n",
    "label_cat_count = data_dict['label_cat_count']"
   ]
  },
  {
   "cell_type": "code",
   "execution_count": null,
   "metadata": {},
   "outputs": [],
   "source": [
    "dofen_config['column_category_count'] = col_cat_count\n",
    "dofen_config['n_class'] = label_cat_count\n",
    "dofen_trainer = DOFENTrainer(dofen_config, train_config, eval_config)"
   ]
  },
  {
   "cell_type": "code",
   "execution_count": null,
   "metadata": {},
   "outputs": [],
   "source": [
    "dofen_trainer.init()"
   ]
  },
  {
   "cell_type": "code",
   "execution_count": null,
   "metadata": {},
   "outputs": [],
   "source": [
    "dofen_trainer.fit(tr_x, tr_y, te_x=te_x, te_y=te_y)"
   ]
  }
 ],
 "metadata": {
  "kernelspec": {
   "display_name": "dofen_venv",
   "language": "python",
   "name": "dofen_venv"
  },
  "language_info": {
   "codemirror_mode": {
    "name": "ipython",
    "version": 3
   },
   "file_extension": ".py",
   "mimetype": "text/x-python",
   "name": "python",
   "nbconvert_exporter": "python",
   "pygments_lexer": "ipython3",
   "version": "3.8.10"
  }
 },
 "nbformat": 4,
 "nbformat_minor": 4
}
